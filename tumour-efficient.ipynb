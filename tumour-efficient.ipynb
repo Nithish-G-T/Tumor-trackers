{
 "cells": [
  {
   "cell_type": "code",
   "execution_count": null,
   "metadata": {
    "_cell_guid": "27711927-46dd-487f-bbc2-cf8513852b4a",
    "_uuid": "796967b9-946b-403a-9ffd-af2820176a97",
    "collapsed": false,
    "execution": {
     "iopub.execute_input": "2025-08-21T13:49:55.046076Z",
     "iopub.status.busy": "2025-08-21T13:49:55.045840Z",
     "iopub.status.idle": "2025-08-21T13:50:03.639361Z",
     "shell.execute_reply": "2025-08-21T13:50:03.638755Z",
     "shell.execute_reply.started": "2025-08-21T13:49:55.046048Z"
    },
    "jupyter": {
     "outputs_hidden": false
    }
   },
   "outputs": [
    {
     "ename": "ModuleNotFoundError",
     "evalue": "No module named 'tqdm'",
     "output_type": "error",
     "traceback": [
      "\u001b[1;31m---------------------------------------------------------------------------\u001b[0m",
      "\u001b[1;31mModuleNotFoundError\u001b[0m                       Traceback (most recent call last)",
      "Cell \u001b[1;32mIn[2], line 13\u001b[0m\n\u001b[0;32m     11\u001b[0m \u001b[38;5;28;01mimport\u001b[39;00m\u001b[38;5;250m \u001b[39m\u001b[38;5;21;01mnumpy\u001b[39;00m\u001b[38;5;250m \u001b[39m\u001b[38;5;28;01mas\u001b[39;00m\u001b[38;5;250m \u001b[39m\u001b[38;5;21;01mnp\u001b[39;00m\n\u001b[0;32m     12\u001b[0m \u001b[38;5;28;01mfrom\u001b[39;00m\u001b[38;5;250m \u001b[39m\u001b[38;5;21;01mPIL\u001b[39;00m\u001b[38;5;250m \u001b[39m\u001b[38;5;28;01mimport\u001b[39;00m Image\n\u001b[1;32m---> 13\u001b[0m \u001b[38;5;28;01mfrom\u001b[39;00m\u001b[38;5;250m \u001b[39m\u001b[38;5;21;01mtqdm\u001b[39;00m\u001b[38;5;250m \u001b[39m\u001b[38;5;28;01mimport\u001b[39;00m tqdm\n",
      "\u001b[1;31mModuleNotFoundError\u001b[0m: No module named 'tqdm'"
     ]
    }
   ],
   "source": [
    "import os\n",
    "import torch\n",
    "import torch.nn as nn\n",
    "import torch.optim as optim\n",
    "from torch.utils.data import DataLoader, random_split, ConcatDataset\n",
    "from torchvision import datasets, transforms, models\n",
    "from torchvision.models import efficientnet_b3, EfficientNet_B3_Weights\n",
    "import matplotlib.pyplot as plt\n",
    "import numpy as np\n",
    "from PIL import Image\n",
    "from tqdm import tqdm"
   ]
  },
  {
   "cell_type": "code",
   "execution_count": null,
   "metadata": {},
   "outputs": [],
   "source": []
  },
  {
   "cell_type": "code",
   "execution_count": 2,
   "metadata": {
    "_cell_guid": "e4e73d7c-3fd0-4457-896a-5d3a11cca132",
    "_uuid": "b544c501-45ad-4610-a50c-886e1d22dc71",
    "collapsed": false,
    "execution": {
     "iopub.execute_input": "2025-08-21T13:50:03.640891Z",
     "iopub.status.busy": "2025-08-21T13:50:03.640508Z",
     "iopub.status.idle": "2025-08-21T13:50:03.646539Z",
     "shell.execute_reply": "2025-08-21T13:50:03.645887Z",
     "shell.execute_reply.started": "2025-08-21T13:50:03.640866Z"
    },
    "jupyter": {
     "outputs_hidden": false
    }
   },
   "outputs": [],
   "source": [
    "data_dir = \"/kaggle/input/brain-tumor-mri-dataset/\"\n",
    "train_dir = os.path.join(data_dir, \"Training\")\n",
    "test_dir = os.path.join(data_dir, \"Testing\")\n",
    "\n",
    "def make_final_transforms(aug_level=\"flip_rot\", rot_deg=12):\n",
    "    if aug_level == \"flip_rot\":\n",
    "        tf_train = transforms.Compose([\n",
    "            transforms.Resize((300, 300)),\n",
    "            transforms.RandomHorizontalFlip(),\n",
    "            transforms.RandomRotation(rot_deg),\n",
    "            transforms.ToTensor(),\n",
    "            transforms.Normalize([0.485, 0.456, 0.406],\n",
    "                                 [0.229, 0.224, 0.225])\n",
    "        ])\n",
    "    else:\n",
    "        tf_train = transforms.Compose([\n",
    "            transforms.Resize((300, 300)),\n",
    "            transforms.ToTensor(),\n",
    "            transforms.Normalize([0.485, 0.456, 0.406],\n",
    "                                 [0.229, 0.224, 0.225])\n",
    "        ])\n",
    "    tf_test = transforms.Compose([\n",
    "        transforms.Resize((300, 300)),\n",
    "        transforms.ToTensor(),\n",
    "        transforms.Normalize([0.485, 0.456, 0.406],\n",
    "                             [0.229, 0.224, 0.225])\n",
    "    ])\n",
    "    return tf_train, tf_test"
   ]
  },
  {
   "cell_type": "code",
   "execution_count": 3,
   "metadata": {
    "_cell_guid": "161a154b-8b70-45c7-afae-d6c8063e069d",
    "_uuid": "b0bc70f6-aa76-4010-946a-07d31b9cf3ff",
    "collapsed": false,
    "execution": {
     "iopub.execute_input": "2025-08-21T13:50:03.647446Z",
     "iopub.status.busy": "2025-08-21T13:50:03.647242Z",
     "iopub.status.idle": "2025-08-21T13:50:10.972210Z",
     "shell.execute_reply": "2025-08-21T13:50:10.971309Z",
     "shell.execute_reply.started": "2025-08-21T13:50:03.647421Z"
    },
    "jupyter": {
     "outputs_hidden": false
    }
   },
   "outputs": [],
   "source": [
    "tf_train, tf_test = make_final_transforms(\"flip_rot\", 12)\n",
    "train_data = datasets.ImageFolder(train_dir, transform=tf_train)\n",
    "test_data = datasets.ImageFolder(test_dir, transform=tf_test)\n",
    "\n",
    "val_ratio = 0.15\n",
    "train_len = int((1 - val_ratio) * len(train_data))\n",
    "val_len = len(train_data) - train_len\n",
    "train_subset, val_subset = random_split(train_data, [train_len, val_len], generator=torch.Generator().manual_seed(42))\n",
    "\n",
    "final_train = ConcatDataset([train_subset, val_subset])\n",
    "train_loader = DataLoader(final_train, batch_size=64, shuffle=True)\n",
    "test_loader = DataLoader(test_data, batch_size=64, shuffle=False)"
   ]
  },
  {
   "cell_type": "code",
   "execution_count": 4,
   "metadata": {
    "_cell_guid": "be6aa97b-a1ed-4b50-8f2d-05327e2c2655",
    "_uuid": "15e1b8c9-c2d0-49d3-9836-020ac2ec45d8",
    "collapsed": false,
    "execution": {
     "iopub.execute_input": "2025-08-21T13:50:10.974459Z",
     "iopub.status.busy": "2025-08-21T13:50:10.974060Z",
     "iopub.status.idle": "2025-08-21T13:50:11.045376Z",
     "shell.execute_reply": "2025-08-21T13:50:11.044681Z",
     "shell.execute_reply.started": "2025-08-21T13:50:10.974431Z"
    },
    "jupyter": {
     "outputs_hidden": false
    }
   },
   "outputs": [],
   "source": [
    "def build_final_model(dropout=0.4626, freeze_ratio=0.449):\n",
    "    model = efficientnet_b3(weights=EfficientNet_B3_Weights.DEFAULT)\n",
    "    n_layers = int(len(list(model.features)) * freeze_ratio)\n",
    "    for i, layer in enumerate(model.features):\n",
    "        for param in layer.parameters():\n",
    "            param.requires_grad = i >= n_layers\n",
    "\n",
    "    model.classifier[1] = nn.Sequential(\n",
    "        nn.Dropout(dropout),\n",
    "        nn.Linear(model.classifier[1].in_features, 4)\n",
    "    )\n",
    "    return model.to(device)\n",
    "\n",
    "device = torch.device(\"cuda\" if torch.cuda.is_available() else \"cpu\")"
   ]
  },
  {
   "cell_type": "code",
   "execution_count": 5,
   "metadata": {
    "_cell_guid": "3d789443-8e76-4148-87c2-9dde4bf0a9bc",
    "_uuid": "806ea9a7-47f7-4bc6-a808-67fa4cbc6549",
    "collapsed": false,
    "execution": {
     "iopub.execute_input": "2025-08-21T13:50:11.046690Z",
     "iopub.status.busy": "2025-08-21T13:50:11.046419Z",
     "iopub.status.idle": "2025-08-21T13:50:11.071737Z",
     "shell.execute_reply": "2025-08-21T13:50:11.071142Z",
     "shell.execute_reply.started": "2025-08-21T13:50:11.046664Z"
    },
    "jupyter": {
     "outputs_hidden": false
    }
   },
   "outputs": [],
   "source": [
    "def run_epoch(model, loader, optimizer, criterion, device, train=True):\n",
    "    model.train() if train else model.eval()\n",
    "    loss_total, correct, total = 0.0, 0, 0\n",
    "    with torch.set_grad_enabled(train):\n",
    "        for x, y in loader:\n",
    "            x, y = x.to(device), y.to(device)\n",
    "            if train: optimizer.zero_grad()\n",
    "            out = model(x)\n",
    "            loss = criterion(out, y)\n",
    "            if train: loss.backward(); optimizer.step()\n",
    "            loss_total += loss.item() * y.size(0)\n",
    "            correct += (out.argmax(1) == y).sum().item()\n",
    "            total += y.size(0)\n",
    "    return loss_total / total, 100. * correct / total"
   ]
  },
  {
   "cell_type": "code",
   "execution_count": 9,
   "metadata": {
    "_cell_guid": "93784c44-b899-4559-ae83-178b8172e9ff",
    "_uuid": "253cff28-eafd-4a61-99cc-a1ea5831e1c9",
    "collapsed": false,
    "execution": {
     "iopub.execute_input": "2025-08-21T14:15:38.742879Z",
     "iopub.status.busy": "2025-08-21T14:15:38.742584Z",
     "iopub.status.idle": "2025-08-21T14:33:57.878360Z",
     "shell.execute_reply": "2025-08-21T14:33:57.877728Z",
     "shell.execute_reply.started": "2025-08-21T14:15:38.742858Z"
    },
    "jupyter": {
     "outputs_hidden": false
    }
   },
   "outputs": [
    {
     "name": "stderr",
     "output_type": "stream",
     "text": [
      "  7%|▋         | 1/15 [01:12<16:57, 72.69s/it]"
     ]
    },
    {
     "name": "stdout",
     "output_type": "stream",
     "text": [
      "Epoch 1: Train Loss = 0.6604, Train Acc = 78.22%\n"
     ]
    },
    {
     "name": "stderr",
     "output_type": "stream",
     "text": [
      " 13%|█▎        | 2/15 [02:25<15:47, 72.85s/it]"
     ]
    },
    {
     "name": "stdout",
     "output_type": "stream",
     "text": [
      "Epoch 2: Train Loss = 0.1712, Train Acc = 94.12%\n"
     ]
    },
    {
     "name": "stderr",
     "output_type": "stream",
     "text": [
      " 20%|██        | 3/15 [03:39<14:37, 73.09s/it]"
     ]
    },
    {
     "name": "stdout",
     "output_type": "stream",
     "text": [
      "Epoch 3: Train Loss = 0.0920, Train Acc = 97.08%\n"
     ]
    },
    {
     "name": "stderr",
     "output_type": "stream",
     "text": [
      " 27%|██▋       | 4/15 [04:52<13:24, 73.17s/it]"
     ]
    },
    {
     "name": "stdout",
     "output_type": "stream",
     "text": [
      "Epoch 4: Train Loss = 0.0574, Train Acc = 98.04%\n"
     ]
    },
    {
     "name": "stderr",
     "output_type": "stream",
     "text": [
      " 33%|███▎      | 5/15 [06:06<12:14, 73.42s/it]"
     ]
    },
    {
     "name": "stdout",
     "output_type": "stream",
     "text": [
      "Epoch 5: Train Loss = 0.0348, Train Acc = 98.97%\n"
     ]
    },
    {
     "name": "stderr",
     "output_type": "stream",
     "text": [
      " 40%|████      | 6/15 [07:19<11:00, 73.37s/it]"
     ]
    },
    {
     "name": "stdout",
     "output_type": "stream",
     "text": [
      "Epoch 6: Train Loss = 0.0299, Train Acc = 99.09%\n"
     ]
    },
    {
     "name": "stderr",
     "output_type": "stream",
     "text": [
      " 47%|████▋     | 7/15 [08:32<09:45, 73.24s/it]"
     ]
    },
    {
     "name": "stdout",
     "output_type": "stream",
     "text": [
      "Epoch 7: Train Loss = 0.0283, Train Acc = 99.12%\n"
     ]
    },
    {
     "name": "stderr",
     "output_type": "stream",
     "text": [
      " 53%|█████▎    | 8/15 [09:45<08:33, 73.33s/it]"
     ]
    },
    {
     "name": "stdout",
     "output_type": "stream",
     "text": [
      "Epoch 8: Train Loss = 0.0204, Train Acc = 99.39%\n"
     ]
    },
    {
     "name": "stderr",
     "output_type": "stream",
     "text": [
      " 60%|██████    | 9/15 [10:59<07:19, 73.33s/it]"
     ]
    },
    {
     "name": "stdout",
     "output_type": "stream",
     "text": [
      "Epoch 9: Train Loss = 0.0138, Train Acc = 99.65%\n"
     ]
    },
    {
     "name": "stderr",
     "output_type": "stream",
     "text": [
      " 67%|██████▋   | 10/15 [12:13<06:07, 73.46s/it]"
     ]
    },
    {
     "name": "stdout",
     "output_type": "stream",
     "text": [
      "Epoch 10: Train Loss = 0.0110, Train Acc = 99.65%\n"
     ]
    },
    {
     "name": "stderr",
     "output_type": "stream",
     "text": [
      " 73%|███████▎  | 11/15 [13:25<04:53, 73.29s/it]"
     ]
    },
    {
     "name": "stdout",
     "output_type": "stream",
     "text": [
      "Epoch 11: Train Loss = 0.0116, Train Acc = 99.75%\n"
     ]
    },
    {
     "name": "stderr",
     "output_type": "stream",
     "text": [
      " 80%|████████  | 12/15 [14:39<03:39, 73.23s/it]"
     ]
    },
    {
     "name": "stdout",
     "output_type": "stream",
     "text": [
      "Epoch 12: Train Loss = 0.0144, Train Acc = 99.54%\n"
     ]
    },
    {
     "name": "stderr",
     "output_type": "stream",
     "text": [
      " 87%|████████▋ | 13/15 [15:52<02:26, 73.18s/it]"
     ]
    },
    {
     "name": "stdout",
     "output_type": "stream",
     "text": [
      "Epoch 13: Train Loss = 0.0088, Train Acc = 99.70%\n"
     ]
    },
    {
     "name": "stderr",
     "output_type": "stream",
     "text": [
      " 93%|█████████▎| 14/15 [17:05<01:13, 73.27s/it]"
     ]
    },
    {
     "name": "stdout",
     "output_type": "stream",
     "text": [
      "Epoch 14: Train Loss = 0.0067, Train Acc = 99.75%\n"
     ]
    },
    {
     "name": "stderr",
     "output_type": "stream",
     "text": [
      "100%|██████████| 15/15 [18:18<00:00, 73.26s/it]"
     ]
    },
    {
     "name": "stdout",
     "output_type": "stream",
     "text": [
      "Epoch 15: Train Loss = 0.0090, Train Acc = 99.72%\n"
     ]
    },
    {
     "name": "stderr",
     "output_type": "stream",
     "text": [
      "\n"
     ]
    }
   ],
   "source": [
    "model = build_final_model(dropout=0.4626, freeze_ratio=0.449)\n",
    "criterion = nn.CrossEntropyLoss()\n",
    "optimizer = optim.Adam(model.parameters(), lr=9.83e-5, weight_decay=1.55e-6)\n",
    "\n",
    "for epoch in tqdm(range(15)):\n",
    "    train_loss, train_acc = run_epoch(model, train_loader, optimizer, criterion, device, train=True)\n",
    "    print(f\"Epoch {epoch+1}: Train Loss = {train_loss:.4f}, Train Acc = {train_acc:.2f}%\")"
   ]
  },
  {
   "cell_type": "code",
   "execution_count": 10,
   "metadata": {
    "_cell_guid": "9ad731dc-ad5f-41d9-929b-fd5300aa020c",
    "_uuid": "79d3d3ec-c908-4286-86b6-5ed182f7ac00",
    "collapsed": false,
    "execution": {
     "iopub.execute_input": "2025-08-21T14:35:00.966974Z",
     "iopub.status.busy": "2025-08-21T14:35:00.966674Z",
     "iopub.status.idle": "2025-08-21T14:35:11.097476Z",
     "shell.execute_reply": "2025-08-21T14:35:11.096809Z",
     "shell.execute_reply.started": "2025-08-21T14:35:00.966928Z"
    },
    "jupyter": {
     "outputs_hidden": false
    }
   },
   "outputs": [
    {
     "name": "stdout",
     "output_type": "stream",
     "text": [
      "\n",
      "🎯 Final Test Accuracy: 99.54%\n"
     ]
    }
   ],
   "source": [
    "test_loss, test_acc = run_epoch(model, test_loader, optimizer, criterion, device, train=False)\n",
    "print(f\"\\n🎯 Final Test Accuracy: {test_acc:.2f}%\")"
   ]
  },
  {
   "cell_type": "code",
   "execution_count": 12,
   "metadata": {
    "execution": {
     "iopub.execute_input": "2025-08-21T14:49:09.904483Z",
     "iopub.status.busy": "2025-08-21T14:49:09.904218Z",
     "iopub.status.idle": "2025-08-21T14:49:10.052132Z",
     "shell.execute_reply": "2025-08-21T14:49:10.051371Z",
     "shell.execute_reply.started": "2025-08-21T14:49:09.904462Z"
    }
   },
   "outputs": [],
   "source": [
    "torch.save(model.state_dict(), \"tumor_model.pth\")"
   ]
  }
 ],
 "metadata": {
  "kaggle": {
   "accelerator": "gpu",
   "dataSources": [
    {
     "datasetId": 1608934,
     "sourceId": 2645886,
     "sourceType": "datasetVersion"
    }
   ],
   "isGpuEnabled": true,
   "isInternetEnabled": true,
   "language": "python",
   "sourceType": "notebook"
  },
  "kernelspec": {
   "display_name": "Python 3",
   "language": "python",
   "name": "python3"
  },
  "language_info": {
   "codemirror_mode": {
    "name": "ipython",
    "version": 3
   },
   "file_extension": ".py",
   "mimetype": "text/x-python",
   "name": "python",
   "nbconvert_exporter": "python",
   "pygments_lexer": "ipython3",
   "version": "3.10.11"
  }
 },
 "nbformat": 4,
 "nbformat_minor": 4
}
